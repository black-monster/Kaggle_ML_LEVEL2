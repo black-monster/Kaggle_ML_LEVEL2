{
 "cells": [
  {
   "cell_type": "markdown",
   "metadata": {},
   "source": [
    "# XGBOOST"
   ]
  },
  {
   "cell_type": "code",
   "execution_count": 1,
   "metadata": {},
   "outputs": [],
   "source": [
    "import numpy as np\n",
    "import pandas as pd\n",
    "from sklearn.model_selection import train_test_split\n",
    "from sklearn.impute import SimpleImputer"
   ]
  },
  {
   "cell_type": "code",
   "execution_count": 2,
   "metadata": {},
   "outputs": [],
   "source": [
    "iowa_data = pd.read_csv('train.csv')"
   ]
  },
  {
   "cell_type": "code",
   "execution_count": 10,
   "metadata": {},
   "outputs": [
    {
     "name": "stderr",
     "output_type": "stream",
     "text": [
      "c:\\users\\ndh00158\\appdata\\local\\programs\\python\\python36\\lib\\site-packages\\ipykernel_launcher.py:3: FutureWarning: Method .as_matrix will be removed in a future version. Use .values instead.\n",
      "  This is separate from the ipykernel package so we can avoid doing imports until\n"
     ]
    }
   ],
   "source": [
    "X = iowa_data.drop(['SalePrice'], axis=1).select_dtypes(exclude=['object'])\n",
    "y = iowa_data['SalePrice']\n",
    "train_X, test_X, train_y, test_y = train_test_split(X.as_matrix(), y.as_matrix(), test_size=0.25)\n",
    "\n",
    "my_imputer = SimpleImputer()\n",
    "train_X = my_imputer.fit_transform(train_X)\n",
    "test_X = my_imputer.transform(test_X)"
   ]
  },
  {
   "cell_type": "code",
   "execution_count": 11,
   "metadata": {},
   "outputs": [
    {
     "name": "stdout",
     "output_type": "stream",
     "text": [
      "[0]\tvalidation_0-rmse:173847\n",
      "Will train until validation_0-rmse hasn't improved in 5 rounds.\n",
      "[1]\tvalidation_0-rmse:157658\n",
      "[2]\tvalidation_0-rmse:143338\n",
      "[3]\tvalidation_0-rmse:129928\n",
      "[4]\tvalidation_0-rmse:118319\n",
      "[5]\tvalidation_0-rmse:108039\n",
      "[6]\tvalidation_0-rmse:98766.6\n",
      "[7]\tvalidation_0-rmse:90317.5\n",
      "[8]\tvalidation_0-rmse:83018.1\n",
      "[9]\tvalidation_0-rmse:76472\n",
      "[10]\tvalidation_0-rmse:70571.3\n",
      "[11]\tvalidation_0-rmse:65568.5\n",
      "[12]\tvalidation_0-rmse:61122.2\n",
      "[13]\tvalidation_0-rmse:56871.6\n",
      "[14]\tvalidation_0-rmse:53410.4\n",
      "[15]\tvalidation_0-rmse:50436.4\n",
      "[16]\tvalidation_0-rmse:47889.6\n",
      "[17]\tvalidation_0-rmse:45484.1\n",
      "[18]\tvalidation_0-rmse:43663\n",
      "[19]\tvalidation_0-rmse:41849.7\n",
      "[20]\tvalidation_0-rmse:40522.2\n",
      "[21]\tvalidation_0-rmse:39297.8\n",
      "[22]\tvalidation_0-rmse:38202.4\n",
      "[23]\tvalidation_0-rmse:37330.5\n",
      "[24]\tvalidation_0-rmse:36601\n",
      "[25]\tvalidation_0-rmse:35910.5\n",
      "[26]\tvalidation_0-rmse:35356.6\n",
      "[27]\tvalidation_0-rmse:34866.6\n",
      "[28]\tvalidation_0-rmse:34414.7\n",
      "[29]\tvalidation_0-rmse:34124.2\n",
      "[30]\tvalidation_0-rmse:33798.9\n",
      "[31]\tvalidation_0-rmse:33580.5\n",
      "[32]\tvalidation_0-rmse:33535.8\n",
      "[33]\tvalidation_0-rmse:33430.7\n",
      "[34]\tvalidation_0-rmse:33399.6\n",
      "[35]\tvalidation_0-rmse:33203.9\n",
      "[36]\tvalidation_0-rmse:33100.5\n",
      "[37]\tvalidation_0-rmse:32982\n",
      "[38]\tvalidation_0-rmse:32913.9\n",
      "[39]\tvalidation_0-rmse:33013\n",
      "[40]\tvalidation_0-rmse:32953.1\n",
      "[41]\tvalidation_0-rmse:32848.4\n",
      "[42]\tvalidation_0-rmse:32763.4\n",
      "[43]\tvalidation_0-rmse:32564.1\n",
      "[44]\tvalidation_0-rmse:32474.6\n",
      "[45]\tvalidation_0-rmse:32479.7\n",
      "[46]\tvalidation_0-rmse:32464.9\n",
      "[47]\tvalidation_0-rmse:32458\n",
      "[48]\tvalidation_0-rmse:32399.9\n",
      "[49]\tvalidation_0-rmse:32379.8\n",
      "[50]\tvalidation_0-rmse:32351.2\n",
      "[51]\tvalidation_0-rmse:32278.2\n",
      "[52]\tvalidation_0-rmse:32182.3\n",
      "[53]\tvalidation_0-rmse:32149.8\n",
      "[54]\tvalidation_0-rmse:32109.1\n",
      "[55]\tvalidation_0-rmse:32122\n",
      "[56]\tvalidation_0-rmse:32136.1\n",
      "[57]\tvalidation_0-rmse:32073.1\n",
      "[58]\tvalidation_0-rmse:32098.7\n",
      "[59]\tvalidation_0-rmse:32036.9\n",
      "[60]\tvalidation_0-rmse:32024.7\n",
      "[61]\tvalidation_0-rmse:32087.5\n",
      "[62]\tvalidation_0-rmse:32051.3\n",
      "[63]\tvalidation_0-rmse:32053\n",
      "[64]\tvalidation_0-rmse:32042.3\n",
      "[65]\tvalidation_0-rmse:32004.4\n",
      "[66]\tvalidation_0-rmse:31973.3\n",
      "[67]\tvalidation_0-rmse:31944.9\n",
      "[68]\tvalidation_0-rmse:31926.8\n",
      "[69]\tvalidation_0-rmse:31988.2\n",
      "[70]\tvalidation_0-rmse:31999.7\n",
      "[71]\tvalidation_0-rmse:31955.2\n",
      "[72]\tvalidation_0-rmse:31967.1\n",
      "[73]\tvalidation_0-rmse:31949.7\n",
      "Stopping. Best iteration:\n",
      "[68]\tvalidation_0-rmse:31926.8\n",
      "\n"
     ]
    },
    {
     "data": {
      "text/plain": [
       "XGBRegressor(base_score=0.5, booster='gbtree', colsample_bylevel=1,\n",
       "       colsample_bytree=1, gamma=0, learning_rate=0.1, max_delta_step=0,\n",
       "       max_depth=3, min_child_weight=1, missing=None, n_estimators=1000,\n",
       "       n_jobs=1, nthread=None, objective='reg:linear', random_state=0,\n",
       "       reg_alpha=0, reg_lambda=1, scale_pos_weight=1, seed=None,\n",
       "       silent=True, subsample=1)"
      ]
     },
     "execution_count": 11,
     "metadata": {},
     "output_type": "execute_result"
    }
   ],
   "source": [
    "my_model = XGBRegressor(n_estimators=1000)\n",
    "my_model.fit(train_X, train_y, early_stopping_rounds=5, \n",
    "             eval_set=[(test_X, test_y)], verbose=True)"
   ]
  }
 ],
 "metadata": {
  "kernelspec": {
   "display_name": "Python 3",
   "language": "python",
   "name": "python3"
  },
  "language_info": {
   "codemirror_mode": {
    "name": "ipython",
    "version": 3
   },
   "file_extension": ".py",
   "mimetype": "text/x-python",
   "name": "python",
   "nbconvert_exporter": "python",
   "pygments_lexer": "ipython3",
   "version": "3.6.1"
  }
 },
 "nbformat": 4,
 "nbformat_minor": 2
}
